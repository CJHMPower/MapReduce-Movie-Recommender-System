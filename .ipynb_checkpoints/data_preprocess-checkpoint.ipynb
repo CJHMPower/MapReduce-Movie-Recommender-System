{
 "cells": [
  {
   "cell_type": "code",
   "execution_count": 1,
   "metadata": {
    "collapsed": true
   },
   "outputs": [],
   "source": [
    "import os\n",
    "import numpy as np\n",
    "import pandas as pd\n",
    "import random"
   ]
  },
  {
   "cell_type": "code",
   "execution_count": 2,
   "metadata": {
    "collapsed": true
   },
   "outputs": [],
   "source": [
    "input_dir = \"data/training_set\"\n",
    "n = 500 # number of movies to use\n",
    "\n",
    "file_list = os.listdir(input_dir)[:n]\n",
    "\n",
    "user_movie = dict()\n",
    "i = 1\n",
    "\n",
    "for file in file_list:\n",
    "    fname = os.path.join(input_dir, file)\n",
    "    f = open(fname,'r')\n",
    "\n",
    "    while True:\n",
    "        line = f.readline()\n",
    "        if not line:\n",
    "            break\n",
    "        user_rating = line.split(\",\")\n",
    "        if len(user_rating)<3:\n",
    "            continue\n",
    "        \n",
    "        user, rating = user_rating[0],user_rating[1]\n",
    "        if user not in user_movie:\n",
    "            user_movie[user] = [str(i)+\",\"+rating]\n",
    "        else:\n",
    "            user_movie[user].append(str(i)+\",\"+rating)\n",
    "    i += 1"
   ]
  },
  {
   "cell_type": "code",
   "execution_count": 3,
   "metadata": {
    "collapsed": true
   },
   "outputs": [],
   "source": [
    "f_train = open(\"data/movie_train_set.txt\",'w')\n",
    "f_test = open(\"data/movie_test_set.txt\",'w')\n",
    "train_movie = dict()\n",
    "test_movie = dict()\n",
    "\n",
    "for user in user_movie:\n",
    "    items = user_movie[user]\n",
    "    random.shuffle(items)\n",
    "    split = int(len(items) * 0.8)\n",
    "    for item in items[:split]:\n",
    "        movie = item.split(\",\")[0]\n",
    "        f_train.write(user + \",\" + item+'\\n')\n",
    "        if movie not in train_movie:\n",
    "            train_movie[movie] = 1\n",
    "        else:\n",
    "            train_movie[movie] += 1\n",
    "    for item in items[split:]:\n",
    "        movie = item.split(\",\")[0]\n",
    "        f_test.write(user + \",\" + item+'\\n')\n",
    "        movie = item.split(\",\")[0]\n",
    "        if movie not in test_movie:\n",
    "            test_movie[movie] = 1\n",
    "        else:\n",
    "            test_movie[movie] += 1\n",
    "\n",
    "f_train.close()\n",
    "f_test.close()"
   ]
  },
  {
   "cell_type": "code",
   "execution_count": null,
   "metadata": {
    "collapsed": true
   },
   "outputs": [],
   "source": []
  }
 ],
 "metadata": {
  "anaconda-cloud": {},
  "kernelspec": {
   "display_name": "Python [conda env:dlnd-tf-lab]",
   "language": "python",
   "name": "conda-env-dlnd-tf-lab-py"
  },
  "language_info": {
   "codemirror_mode": {
    "name": "ipython",
    "version": 3
   },
   "file_extension": ".py",
   "mimetype": "text/x-python",
   "name": "python",
   "nbconvert_exporter": "python",
   "pygments_lexer": "ipython3",
   "version": "3.5.2"
  }
 },
 "nbformat": 4,
 "nbformat_minor": 2
}
